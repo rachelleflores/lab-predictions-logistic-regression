{
 "cells": [
  {
   "cell_type": "markdown",
   "id": "cc5de598",
   "metadata": {},
   "source": [
    "# Lab | Making predictions with logistic regression\n",
    "In this lab, you will be using the Sakila database of movie rentals.\n",
    "\n",
    "In order to optimize our inventory, we would like to know which films will be rented next month and we are asked to create a model to predict it."
   ]
  },
  {
   "cell_type": "markdown",
   "id": "008f46e7",
   "metadata": {},
   "source": [
    "## Instructions\n",
    "1. Create a query or queries to extract the information you think may be relevant for building the prediction model. It should include some film features and some rental features.\n",
    "2. Read the data into a Pandas dataframe.\n",
    "3. Analyze extracted features and transform them. You may need to encode some categorical variables, or scale numerical variables.\n",
    "4. Create a query to get the list of films and a boolean indicating if it was rented last month. This would be our target variable.\n",
    "5. Create a logistic regression model to predict this variable from the cleaned data.\n",
    "6. Evaluate the results."
   ]
  },
  {
   "cell_type": "markdown",
   "id": "8f2f206f",
   "metadata": {},
   "source": [
    "### Import libraries"
   ]
  },
  {
   "cell_type": "code",
   "execution_count": 235,
   "id": "4ab747bf",
   "metadata": {},
   "outputs": [],
   "source": [
    "from sqlalchemy import create_engine\n",
    "import getpass  # To get the password without showing the input\n",
    "password = getpass.getpass()\n",
    "connection_string = 'mysql+pymysql://root:' + password + '@localhost/sakila'\n",
    "engine = create_engine(connection_string)"
   ]
  },
  {
   "cell_type": "code",
   "execution_count": 236,
   "id": "1e90600d",
   "metadata": {},
   "outputs": [],
   "source": [
    "\n",
    "import matplotlib\n",
    "import matplotlib.pyplot as plt\n",
    "import numpy as np\n",
    "import pandas as pd\n",
    "from dfply import *\n",
    "import seaborn as sns\n",
    "sns.set_theme(style=\"whitegrid\")\n",
    "import datetime as dt\n",
    "\n",
    "from sklearn.preprocessing import Normalizer\n",
    "from sklearn.preprocessing import MinMaxScaler\n",
    "from sklearn.preprocessing import StandardScaler\n",
    "\n",
    "from sklearn.metrics import confusion_matrix\n",
    "from sklearn.metrics import plot_confusion_matrix\n",
    "from sklearn.metrics import cohen_kappa_score\n",
    "\n",
    "from sklearn.model_selection import train_test_split\n",
    "from sklearn.linear_model import LogisticRegression #for classification!!!\n",
    "from sklearn.metrics import accuracy_score\n",
    "\n",
    "%matplotlib inline\n"
   ]
  },
  {
   "cell_type": "markdown",
   "id": "3e59dcde",
   "metadata": {},
   "source": [
    "### Gather data"
   ]
  },
  {
   "cell_type": "code",
   "execution_count": 237,
   "id": "cb616902",
   "metadata": {
    "scrolled": true
   },
   "outputs": [
    {
     "data": {
      "text/html": [
       "<div>\n",
       "<style scoped>\n",
       "    .dataframe tbody tr th:only-of-type {\n",
       "        vertical-align: middle;\n",
       "    }\n",
       "\n",
       "    .dataframe tbody tr th {\n",
       "        vertical-align: top;\n",
       "    }\n",
       "\n",
       "    .dataframe thead th {\n",
       "        text-align: right;\n",
       "    }\n",
       "</style>\n",
       "<table border=\"1\" class=\"dataframe\">\n",
       "  <thead>\n",
       "    <tr style=\"text-align: right;\">\n",
       "      <th></th>\n",
       "      <th>film_id</th>\n",
       "      <th>title</th>\n",
       "      <th>rental_year</th>\n",
       "      <th>rental_month</th>\n",
       "      <th>rental_day</th>\n",
       "      <th>rating</th>\n",
       "      <th>category</th>\n",
       "      <th>total_rental_counts</th>\n",
       "    </tr>\n",
       "  </thead>\n",
       "  <tbody>\n",
       "    <tr>\n",
       "      <th>0</th>\n",
       "      <td>1</td>\n",
       "      <td>ACADEMY DINOSAUR</td>\n",
       "      <td>2005</td>\n",
       "      <td>8</td>\n",
       "      <td>18</td>\n",
       "      <td>PG</td>\n",
       "      <td>Documentary</td>\n",
       "      <td>23</td>\n",
       "    </tr>\n",
       "    <tr>\n",
       "      <th>1</th>\n",
       "      <td>1</td>\n",
       "      <td>ACADEMY DINOSAUR</td>\n",
       "      <td>2005</td>\n",
       "      <td>8</td>\n",
       "      <td>21</td>\n",
       "      <td>PG</td>\n",
       "      <td>Documentary</td>\n",
       "      <td>23</td>\n",
       "    </tr>\n",
       "    <tr>\n",
       "      <th>2</th>\n",
       "      <td>1</td>\n",
       "      <td>ACADEMY DINOSAUR</td>\n",
       "      <td>2005</td>\n",
       "      <td>8</td>\n",
       "      <td>21</td>\n",
       "      <td>PG</td>\n",
       "      <td>Documentary</td>\n",
       "      <td>23</td>\n",
       "    </tr>\n",
       "    <tr>\n",
       "      <th>3</th>\n",
       "      <td>1</td>\n",
       "      <td>ACADEMY DINOSAUR</td>\n",
       "      <td>2005</td>\n",
       "      <td>8</td>\n",
       "      <td>21</td>\n",
       "      <td>PG</td>\n",
       "      <td>Documentary</td>\n",
       "      <td>23</td>\n",
       "    </tr>\n",
       "    <tr>\n",
       "      <th>4</th>\n",
       "      <td>1</td>\n",
       "      <td>ACADEMY DINOSAUR</td>\n",
       "      <td>2005</td>\n",
       "      <td>8</td>\n",
       "      <td>22</td>\n",
       "      <td>PG</td>\n",
       "      <td>Documentary</td>\n",
       "      <td>23</td>\n",
       "    </tr>\n",
       "  </tbody>\n",
       "</table>\n",
       "</div>"
      ],
      "text/plain": [
       "   film_id             title  rental_year  rental_month  rental_day rating  \\\n",
       "0        1  ACADEMY DINOSAUR         2005             8          18     PG   \n",
       "1        1  ACADEMY DINOSAUR         2005             8          21     PG   \n",
       "2        1  ACADEMY DINOSAUR         2005             8          21     PG   \n",
       "3        1  ACADEMY DINOSAUR         2005             8          21     PG   \n",
       "4        1  ACADEMY DINOSAUR         2005             8          22     PG   \n",
       "\n",
       "      category  total_rental_counts  \n",
       "0  Documentary                   23  \n",
       "1  Documentary                   23  \n",
       "2  Documentary                   23  \n",
       "3  Documentary                   23  \n",
       "4  Documentary                   23  "
      ]
     },
     "execution_count": 237,
     "metadata": {},
     "output_type": "execute_result"
    }
   ],
   "source": [
    "# query to get some film and rental information from the tables rental, inventory and film\n",
    "query = '''SELECT \n",
    "\tf.film_id, \n",
    "\tf.title, \n",
    "    EXTRACT(YEAR FROM r.rental_date) AS rental_year,\n",
    "    EXTRACT(MONTH FROM r.rental_date) AS rental_month,\n",
    "    EXTRACT(DAY FROM r.rental_date) AS rental_day,\n",
    "    f.rating, \n",
    "    c.name AS category, \n",
    "    COUNT(rental_id) OVER (PARTITION BY film_id) AS total_rental_counts\n",
    "FROM rental r\n",
    "JOIN inventory i\n",
    "USING(inventory_id)\n",
    "JOIN film f\n",
    "USING(film_id)\n",
    "JOIN film_category fc\n",
    "USING(film_id)\n",
    "JOIN category c\n",
    "USING(category_id)\n",
    "HAVING rental_year < 2007;'''\n",
    "df = pd.read_sql_query(query, engine)\n",
    "df.head()"
   ]
  },
  {
   "attachments": {},
   "cell_type": "markdown",
   "id": "2a1bc1aa",
   "metadata": {},
   "source": [
    "### Data Cleaning and Exploration"
   ]
  },
  {
   "cell_type": "code",
   "execution_count": 238,
   "id": "0fd9c79b",
   "metadata": {},
   "outputs": [],
   "source": [
    "# transform text values to lowercase\n",
    "def lowercase(x):\n",
    "    x = x.apply(str.lower)\n",
    "    return x\n",
    "df['title'] = lowercase(df['title'])"
   ]
  },
  {
   "cell_type": "code",
   "execution_count": 239,
   "id": "2033cbee",
   "metadata": {},
   "outputs": [
    {
     "data": {
      "text/html": [
       "<div>\n",
       "<style scoped>\n",
       "    .dataframe tbody tr th:only-of-type {\n",
       "        vertical-align: middle;\n",
       "    }\n",
       "\n",
       "    .dataframe tbody tr th {\n",
       "        vertical-align: top;\n",
       "    }\n",
       "\n",
       "    .dataframe thead th {\n",
       "        text-align: right;\n",
       "    }\n",
       "</style>\n",
       "<table border=\"1\" class=\"dataframe\">\n",
       "  <thead>\n",
       "    <tr style=\"text-align: right;\">\n",
       "      <th></th>\n",
       "      <th>film_id</th>\n",
       "      <th>title</th>\n",
       "      <th>rental_year</th>\n",
       "      <th>rental_month</th>\n",
       "      <th>rental_day</th>\n",
       "      <th>rating</th>\n",
       "      <th>category</th>\n",
       "      <th>total_rental_counts</th>\n",
       "    </tr>\n",
       "  </thead>\n",
       "  <tbody>\n",
       "    <tr>\n",
       "      <th>0</th>\n",
       "      <td>1</td>\n",
       "      <td>academy dinosaur</td>\n",
       "      <td>2005</td>\n",
       "      <td>8</td>\n",
       "      <td>18</td>\n",
       "      <td>PG</td>\n",
       "      <td>Documentary</td>\n",
       "      <td>23</td>\n",
       "    </tr>\n",
       "    <tr>\n",
       "      <th>1</th>\n",
       "      <td>1</td>\n",
       "      <td>academy dinosaur</td>\n",
       "      <td>2005</td>\n",
       "      <td>8</td>\n",
       "      <td>21</td>\n",
       "      <td>PG</td>\n",
       "      <td>Documentary</td>\n",
       "      <td>23</td>\n",
       "    </tr>\n",
       "    <tr>\n",
       "      <th>2</th>\n",
       "      <td>1</td>\n",
       "      <td>academy dinosaur</td>\n",
       "      <td>2005</td>\n",
       "      <td>8</td>\n",
       "      <td>21</td>\n",
       "      <td>PG</td>\n",
       "      <td>Documentary</td>\n",
       "      <td>23</td>\n",
       "    </tr>\n",
       "    <tr>\n",
       "      <th>3</th>\n",
       "      <td>1</td>\n",
       "      <td>academy dinosaur</td>\n",
       "      <td>2005</td>\n",
       "      <td>8</td>\n",
       "      <td>21</td>\n",
       "      <td>PG</td>\n",
       "      <td>Documentary</td>\n",
       "      <td>23</td>\n",
       "    </tr>\n",
       "    <tr>\n",
       "      <th>4</th>\n",
       "      <td>1</td>\n",
       "      <td>academy dinosaur</td>\n",
       "      <td>2005</td>\n",
       "      <td>8</td>\n",
       "      <td>22</td>\n",
       "      <td>PG</td>\n",
       "      <td>Documentary</td>\n",
       "      <td>23</td>\n",
       "    </tr>\n",
       "  </tbody>\n",
       "</table>\n",
       "</div>"
      ],
      "text/plain": [
       "   film_id             title  rental_year  rental_month  rental_day rating  \\\n",
       "0        1  academy dinosaur         2005             8          18     PG   \n",
       "1        1  academy dinosaur         2005             8          21     PG   \n",
       "2        1  academy dinosaur         2005             8          21     PG   \n",
       "3        1  academy dinosaur         2005             8          21     PG   \n",
       "4        1  academy dinosaur         2005             8          22     PG   \n",
       "\n",
       "      category  total_rental_counts  \n",
       "0  Documentary                   23  \n",
       "1  Documentary                   23  \n",
       "2  Documentary                   23  \n",
       "3  Documentary                   23  \n",
       "4  Documentary                   23  "
      ]
     },
     "execution_count": 239,
     "metadata": {},
     "output_type": "execute_result"
    }
   ],
   "source": [
    "df.head()"
   ]
  },
  {
   "cell_type": "code",
   "execution_count": 240,
   "id": "8637a78c",
   "metadata": {},
   "outputs": [
    {
     "data": {
      "text/plain": [
       "(16044, 8)"
      ]
     },
     "execution_count": 240,
     "metadata": {},
     "output_type": "execute_result"
    }
   ],
   "source": [
    "df.shape"
   ]
  },
  {
   "cell_type": "code",
   "execution_count": 241,
   "id": "6ca5c494",
   "metadata": {},
   "outputs": [
    {
     "name": "stdout",
     "output_type": "stream",
     "text": [
      "<class 'pandas.core.frame.DataFrame'>\n",
      "RangeIndex: 16044 entries, 0 to 16043\n",
      "Data columns (total 8 columns):\n",
      " #   Column               Non-Null Count  Dtype \n",
      "---  ------               --------------  ----- \n",
      " 0   film_id              16044 non-null  int64 \n",
      " 1   title                16044 non-null  object\n",
      " 2   rental_year          16044 non-null  int64 \n",
      " 3   rental_month         16044 non-null  int64 \n",
      " 4   rental_day           16044 non-null  int64 \n",
      " 5   rating               16044 non-null  object\n",
      " 6   category             16044 non-null  object\n",
      " 7   total_rental_counts  16044 non-null  int64 \n",
      "dtypes: int64(5), object(3)\n",
      "memory usage: 1002.9+ KB\n"
     ]
    }
   ],
   "source": [
    "df.info() # no null values, dtypes seem to be correct as well"
   ]
  },
  {
   "cell_type": "code",
   "execution_count": 242,
   "id": "e2ec8a77",
   "metadata": {
    "scrolled": true
   },
   "outputs": [
    {
     "data": {
      "text/plain": [
       "31"
      ]
     },
     "execution_count": 242,
     "metadata": {},
     "output_type": "execute_result"
    }
   ],
   "source": [
    "df.total_rental_counts.nunique()"
   ]
  },
  {
   "cell_type": "code",
   "execution_count": 243,
   "id": "94c65005",
   "metadata": {},
   "outputs": [
    {
     "data": {
      "text/plain": [
       "array([23,  7, 12, 21, 15, 18, 24, 26,  9, 22, 14, 10, 13, 31,  6, 16, 11,\n",
       "        8, 19, 25, 17, 29, 27,  5, 20, 34, 30, 28, 32,  4, 33])"
      ]
     },
     "execution_count": 243,
     "metadata": {},
     "output_type": "execute_result"
    }
   ],
   "source": [
    "df.total_rental_counts.unique()"
   ]
  },
  {
   "attachments": {},
   "cell_type": "markdown",
   "id": "3b3cca26",
   "metadata": {},
   "source": [
    "There are a total of 16044 rentals. After looking at the different values in the total_rental_counts column which has been created to get the total number of times a film has been rented in the past, I will be applying some feature engineering later on regarding the popularity of each film.\n",
    "\n",
    "To do so, I made a new query taking only the distict films together with a new column which shows if this particular film has been rented in February 2006 (rented_feb06). This will also be the target in the classification model."
   ]
  },
  {
   "cell_type": "code",
   "execution_count": 244,
   "id": "775966c0",
   "metadata": {},
   "outputs": [
    {
     "data": {
      "text/html": [
       "<div>\n",
       "<style scoped>\n",
       "    .dataframe tbody tr th:only-of-type {\n",
       "        vertical-align: middle;\n",
       "    }\n",
       "\n",
       "    .dataframe tbody tr th {\n",
       "        vertical-align: top;\n",
       "    }\n",
       "\n",
       "    .dataframe thead th {\n",
       "        text-align: right;\n",
       "    }\n",
       "</style>\n",
       "<table border=\"1\" class=\"dataframe\">\n",
       "  <thead>\n",
       "    <tr style=\"text-align: right;\">\n",
       "      <th></th>\n",
       "      <th>film_id</th>\n",
       "      <th>title</th>\n",
       "      <th>film_duration</th>\n",
       "      <th>rating</th>\n",
       "      <th>category</th>\n",
       "      <th>total_rental_counts</th>\n",
       "      <th>rented_feb06</th>\n",
       "    </tr>\n",
       "  </thead>\n",
       "  <tbody>\n",
       "    <tr>\n",
       "      <th>0</th>\n",
       "      <td>1</td>\n",
       "      <td>ACADEMY DINOSAUR</td>\n",
       "      <td>86</td>\n",
       "      <td>PG</td>\n",
       "      <td>Documentary</td>\n",
       "      <td>23</td>\n",
       "      <td>NaN</td>\n",
       "    </tr>\n",
       "    <tr>\n",
       "      <th>1</th>\n",
       "      <td>2</td>\n",
       "      <td>ACE GOLDFINGER</td>\n",
       "      <td>48</td>\n",
       "      <td>G</td>\n",
       "      <td>Horror</td>\n",
       "      <td>7</td>\n",
       "      <td>2.0</td>\n",
       "    </tr>\n",
       "    <tr>\n",
       "      <th>2</th>\n",
       "      <td>3</td>\n",
       "      <td>ADAPTATION HOLES</td>\n",
       "      <td>50</td>\n",
       "      <td>NC-17</td>\n",
       "      <td>Documentary</td>\n",
       "      <td>12</td>\n",
       "      <td>NaN</td>\n",
       "    </tr>\n",
       "    <tr>\n",
       "      <th>3</th>\n",
       "      <td>4</td>\n",
       "      <td>AFFAIR PREJUDICE</td>\n",
       "      <td>117</td>\n",
       "      <td>G</td>\n",
       "      <td>Horror</td>\n",
       "      <td>23</td>\n",
       "      <td>4.0</td>\n",
       "    </tr>\n",
       "    <tr>\n",
       "      <th>4</th>\n",
       "      <td>5</td>\n",
       "      <td>AFRICAN EGG</td>\n",
       "      <td>130</td>\n",
       "      <td>G</td>\n",
       "      <td>Family</td>\n",
       "      <td>12</td>\n",
       "      <td>5.0</td>\n",
       "    </tr>\n",
       "  </tbody>\n",
       "</table>\n",
       "</div>"
      ],
      "text/plain": [
       "   film_id             title  film_duration rating     category  \\\n",
       "0        1  ACADEMY DINOSAUR             86     PG  Documentary   \n",
       "1        2    ACE GOLDFINGER             48      G       Horror   \n",
       "2        3  ADAPTATION HOLES             50  NC-17  Documentary   \n",
       "3        4  AFFAIR PREJUDICE            117      G       Horror   \n",
       "4        5       AFRICAN EGG            130      G       Family   \n",
       "\n",
       "   total_rental_counts  rented_feb06  \n",
       "0                   23           NaN  \n",
       "1                    7           2.0  \n",
       "2                   12           NaN  \n",
       "3                   23           4.0  \n",
       "4                   12           5.0  "
      ]
     },
     "execution_count": 244,
     "metadata": {},
     "output_type": "execute_result"
    }
   ],
   "source": [
    "# list of distinct films\n",
    "query_film_list = '''SELECT DISTINCT s.film_id, title, film_duration, rating, category, total_rental_counts, feb.film_id as rented_feb06\n",
    "FROM selection s\n",
    "LEFT JOIN (SELECT film_id FROM selection WHERE rental_year = 2006 AND rental_month = 2) feb\n",
    "USING(film_id);'''\n",
    "film_list = pd.read_sql_query(query_film_list, engine)\n",
    "film_list.head()"
   ]
  },
  {
   "cell_type": "code",
   "execution_count": 245,
   "id": "648b48e1",
   "metadata": {},
   "outputs": [],
   "source": [
    "film_list['title'] = lowercase(film_list['title'])"
   ]
  },
  {
   "cell_type": "code",
   "execution_count": 246,
   "id": "7e01a2d3",
   "metadata": {},
   "outputs": [
    {
     "data": {
      "text/plain": [
       "0    NaN\n",
       "1    2.0\n",
       "2    NaN\n",
       "3    4.0\n",
       "4    5.0\n",
       "Name: rented_feb06, dtype: float64"
      ]
     },
     "execution_count": 246,
     "metadata": {},
     "output_type": "execute_result"
    }
   ],
   "source": [
    "film_list['rented_feb06'].head()"
   ]
  },
  {
   "attachments": {},
   "cell_type": "markdown",
   "id": "6827adbd",
   "metadata": {},
   "source": [
    "Looking at the target rented_feb06, I will be cleaning the values so that the column becomes a boolean:  1 for films which were rented in Feb 2006 and 0 otherwise."
   ]
  },
  {
   "cell_type": "code",
   "execution_count": 247,
   "id": "c5072b5c",
   "metadata": {},
   "outputs": [],
   "source": [
    "film_list['rented_feb06'] = film_list['rented_feb06'].fillna(0) #replace Nan with 0"
   ]
  },
  {
   "cell_type": "code",
   "execution_count": 248,
   "id": "69cf0d5d",
   "metadata": {},
   "outputs": [],
   "source": [
    "#replace film ids with 1. FYI, this column was taken with a left self join from the original query to include only film_ids of films rented in Feb 2006\n",
    "film_list['rented_feb06'] = film_list['rented_feb06'].apply(lambda x : 1 if x!= 0 else x).astype(int) "
   ]
  },
  {
   "cell_type": "code",
   "execution_count": 249,
   "id": "909e4e32",
   "metadata": {},
   "outputs": [
    {
     "data": {
      "text/plain": [
       "0    790\n",
       "1    168\n",
       "Name: rented_feb06, dtype: int64"
      ]
     },
     "execution_count": 249,
     "metadata": {},
     "output_type": "execute_result"
    }
   ],
   "source": [
    "film_list['rented_feb06'].value_counts()"
   ]
  },
  {
   "attachments": {},
   "cell_type": "markdown",
   "id": "1442aab1",
   "metadata": {},
   "source": [
    "Just looking at the value counts above, we can see that there is an imbalance in the number of films rented in Feb as opposed to those that weren't. This will definitely affect the classification model's performance."
   ]
  },
  {
   "attachments": {},
   "cell_type": "markdown",
   "id": "8658197b",
   "metadata": {},
   "source": [
    "### Feature Engineering\n",
    "Adding new popularity column which will be based on the number of times a film has been rented: \n",
    "- unpopular (1 - 5)\n",
    "- mildly unpopular (6 - 9)\n",
    "- mildly popular (10 - 14)\n",
    "- popular (15 - 19)\n",
    "- very popular (20 and up)\n",
    "\n",
    "Keep in mind although the numbers seem to be quite low, the maximum number of times a film has been rented in sakila is only 31 times."
   ]
  },
  {
   "cell_type": "code",
   "execution_count": 250,
   "id": "71a96441",
   "metadata": {},
   "outputs": [],
   "source": [
    "# conditions to append to the new popularity column\n",
    "condition = [(film_list['total_rental_counts'] == 0),\n",
    "             (film_list['total_rental_counts'].between(1,5)),\n",
    "             (film_list['total_rental_counts'].between(6,10)),\n",
    "             (film_list['total_rental_counts'].between(11,15)),\n",
    "             (film_list['total_rental_counts'].between(16,20)),\n",
    "             (film_list['total_rental_counts'] >= 21)]\n",
    "choice = ['never_rented', 'unpopular', 'mildly_unpopular', 'mildly_popular', 'popular', 'very_popular']\n",
    "film_list['popularity'] = np.select(condition, choice)"
   ]
  },
  {
   "cell_type": "code",
   "execution_count": 251,
   "id": "ce94d140",
   "metadata": {},
   "outputs": [
    {
     "data": {
      "text/html": [
       "<div>\n",
       "<style scoped>\n",
       "    .dataframe tbody tr th:only-of-type {\n",
       "        vertical-align: middle;\n",
       "    }\n",
       "\n",
       "    .dataframe tbody tr th {\n",
       "        vertical-align: top;\n",
       "    }\n",
       "\n",
       "    .dataframe thead th {\n",
       "        text-align: right;\n",
       "    }\n",
       "</style>\n",
       "<table border=\"1\" class=\"dataframe\">\n",
       "  <thead>\n",
       "    <tr style=\"text-align: right;\">\n",
       "      <th></th>\n",
       "      <th>film_id</th>\n",
       "      <th>title</th>\n",
       "      <th>film_duration</th>\n",
       "      <th>rating</th>\n",
       "      <th>category</th>\n",
       "      <th>total_rental_counts</th>\n",
       "      <th>rented_feb06</th>\n",
       "      <th>popularity</th>\n",
       "    </tr>\n",
       "  </thead>\n",
       "  <tbody>\n",
       "    <tr>\n",
       "      <th>371</th>\n",
       "      <td>393</td>\n",
       "      <td>halloween nuts</td>\n",
       "      <td>47</td>\n",
       "      <td>PG-13</td>\n",
       "      <td>Documentary</td>\n",
       "      <td>10</td>\n",
       "      <td>0</td>\n",
       "      <td>mildly_unpopular</td>\n",
       "    </tr>\n",
       "    <tr>\n",
       "      <th>852</th>\n",
       "      <td>890</td>\n",
       "      <td>tights dawn</td>\n",
       "      <td>172</td>\n",
       "      <td>R</td>\n",
       "      <td>Sports</td>\n",
       "      <td>26</td>\n",
       "      <td>0</td>\n",
       "      <td>very_popular</td>\n",
       "    </tr>\n",
       "    <tr>\n",
       "      <th>256</th>\n",
       "      <td>273</td>\n",
       "      <td>effect gladiator</td>\n",
       "      <td>107</td>\n",
       "      <td>PG</td>\n",
       "      <td>Family</td>\n",
       "      <td>25</td>\n",
       "      <td>1</td>\n",
       "      <td>very_popular</td>\n",
       "    </tr>\n",
       "    <tr>\n",
       "      <th>381</th>\n",
       "      <td>403</td>\n",
       "      <td>harry idaho</td>\n",
       "      <td>121</td>\n",
       "      <td>PG-13</td>\n",
       "      <td>Drama</td>\n",
       "      <td>30</td>\n",
       "      <td>1</td>\n",
       "      <td>very_popular</td>\n",
       "    </tr>\n",
       "    <tr>\n",
       "      <th>49</th>\n",
       "      <td>55</td>\n",
       "      <td>barbarella streetcar</td>\n",
       "      <td>65</td>\n",
       "      <td>G</td>\n",
       "      <td>Sci-Fi</td>\n",
       "      <td>25</td>\n",
       "      <td>0</td>\n",
       "      <td>very_popular</td>\n",
       "    </tr>\n",
       "    <tr>\n",
       "      <th>701</th>\n",
       "      <td>734</td>\n",
       "      <td>road roxanne</td>\n",
       "      <td>158</td>\n",
       "      <td>R</td>\n",
       "      <td>Documentary</td>\n",
       "      <td>19</td>\n",
       "      <td>0</td>\n",
       "      <td>popular</td>\n",
       "    </tr>\n",
       "    <tr>\n",
       "      <th>820</th>\n",
       "      <td>856</td>\n",
       "      <td>streetcar intentions</td>\n",
       "      <td>73</td>\n",
       "      <td>R</td>\n",
       "      <td>Horror</td>\n",
       "      <td>25</td>\n",
       "      <td>0</td>\n",
       "      <td>very_popular</td>\n",
       "    </tr>\n",
       "    <tr>\n",
       "      <th>144</th>\n",
       "      <td>155</td>\n",
       "      <td>cleopatra devil</td>\n",
       "      <td>150</td>\n",
       "      <td>PG-13</td>\n",
       "      <td>New</td>\n",
       "      <td>18</td>\n",
       "      <td>1</td>\n",
       "      <td>popular</td>\n",
       "    </tr>\n",
       "    <tr>\n",
       "      <th>179</th>\n",
       "      <td>191</td>\n",
       "      <td>crooked frogmen</td>\n",
       "      <td>143</td>\n",
       "      <td>PG-13</td>\n",
       "      <td>Children</td>\n",
       "      <td>23</td>\n",
       "      <td>1</td>\n",
       "      <td>very_popular</td>\n",
       "    </tr>\n",
       "    <tr>\n",
       "      <th>419</th>\n",
       "      <td>443</td>\n",
       "      <td>hurricane affair</td>\n",
       "      <td>49</td>\n",
       "      <td>PG</td>\n",
       "      <td>Comedy</td>\n",
       "      <td>24</td>\n",
       "      <td>0</td>\n",
       "      <td>very_popular</td>\n",
       "    </tr>\n",
       "    <tr>\n",
       "      <th>574</th>\n",
       "      <td>600</td>\n",
       "      <td>motions details</td>\n",
       "      <td>166</td>\n",
       "      <td>PG</td>\n",
       "      <td>Horror</td>\n",
       "      <td>16</td>\n",
       "      <td>1</td>\n",
       "      <td>popular</td>\n",
       "    </tr>\n",
       "    <tr>\n",
       "      <th>525</th>\n",
       "      <td>551</td>\n",
       "      <td>maiden home</td>\n",
       "      <td>138</td>\n",
       "      <td>PG</td>\n",
       "      <td>New</td>\n",
       "      <td>24</td>\n",
       "      <td>0</td>\n",
       "      <td>very_popular</td>\n",
       "    </tr>\n",
       "    <tr>\n",
       "      <th>883</th>\n",
       "      <td>922</td>\n",
       "      <td>undefeated dalmations</td>\n",
       "      <td>107</td>\n",
       "      <td>PG-13</td>\n",
       "      <td>Horror</td>\n",
       "      <td>21</td>\n",
       "      <td>0</td>\n",
       "      <td>very_popular</td>\n",
       "    </tr>\n",
       "    <tr>\n",
       "      <th>490</th>\n",
       "      <td>516</td>\n",
       "      <td>legend jedi</td>\n",
       "      <td>59</td>\n",
       "      <td>PG</td>\n",
       "      <td>Music</td>\n",
       "      <td>9</td>\n",
       "      <td>0</td>\n",
       "      <td>mildly_unpopular</td>\n",
       "    </tr>\n",
       "    <tr>\n",
       "      <th>275</th>\n",
       "      <td>292</td>\n",
       "      <td>excitement eve</td>\n",
       "      <td>51</td>\n",
       "      <td>G</td>\n",
       "      <td>Action</td>\n",
       "      <td>21</td>\n",
       "      <td>0</td>\n",
       "      <td>very_popular</td>\n",
       "    </tr>\n",
       "  </tbody>\n",
       "</table>\n",
       "</div>"
      ],
      "text/plain": [
       "     film_id                  title  film_duration rating     category  \\\n",
       "371      393         halloween nuts             47  PG-13  Documentary   \n",
       "852      890            tights dawn            172      R       Sports   \n",
       "256      273       effect gladiator            107     PG       Family   \n",
       "381      403            harry idaho            121  PG-13        Drama   \n",
       "49        55   barbarella streetcar             65      G       Sci-Fi   \n",
       "701      734           road roxanne            158      R  Documentary   \n",
       "820      856   streetcar intentions             73      R       Horror   \n",
       "144      155        cleopatra devil            150  PG-13          New   \n",
       "179      191        crooked frogmen            143  PG-13     Children   \n",
       "419      443       hurricane affair             49     PG       Comedy   \n",
       "574      600        motions details            166     PG       Horror   \n",
       "525      551            maiden home            138     PG          New   \n",
       "883      922  undefeated dalmations            107  PG-13       Horror   \n",
       "490      516            legend jedi             59     PG        Music   \n",
       "275      292         excitement eve             51      G       Action   \n",
       "\n",
       "     total_rental_counts  rented_feb06        popularity  \n",
       "371                   10             0  mildly_unpopular  \n",
       "852                   26             0      very_popular  \n",
       "256                   25             1      very_popular  \n",
       "381                   30             1      very_popular  \n",
       "49                    25             0      very_popular  \n",
       "701                   19             0           popular  \n",
       "820                   25             0      very_popular  \n",
       "144                   18             1           popular  \n",
       "179                   23             1      very_popular  \n",
       "419                   24             0      very_popular  \n",
       "574                   16             1           popular  \n",
       "525                   24             0      very_popular  \n",
       "883                   21             0      very_popular  \n",
       "490                    9             0  mildly_unpopular  \n",
       "275                   21             0      very_popular  "
      ]
     },
     "execution_count": 251,
     "metadata": {},
     "output_type": "execute_result"
    }
   ],
   "source": [
    "film_list.sample(15) #to check the results of the new column added"
   ]
  },
  {
   "cell_type": "code",
   "execution_count": 252,
   "id": "e9c97d4a",
   "metadata": {},
   "outputs": [
    {
     "data": {
      "text/plain": [
       "False"
      ]
     },
     "execution_count": 252,
     "metadata": {},
     "output_type": "execute_result"
    }
   ],
   "source": [
    "film_list.duplicated().any() # no duplicates"
   ]
  },
  {
   "cell_type": "code",
   "execution_count": 253,
   "id": "10dda93c",
   "metadata": {},
   "outputs": [
    {
     "data": {
      "text/html": [
       "<div>\n",
       "<style scoped>\n",
       "    .dataframe tbody tr th:only-of-type {\n",
       "        vertical-align: middle;\n",
       "    }\n",
       "\n",
       "    .dataframe tbody tr th {\n",
       "        vertical-align: top;\n",
       "    }\n",
       "\n",
       "    .dataframe thead th {\n",
       "        text-align: right;\n",
       "    }\n",
       "</style>\n",
       "<table border=\"1\" class=\"dataframe\">\n",
       "  <thead>\n",
       "    <tr style=\"text-align: right;\">\n",
       "      <th></th>\n",
       "      <th>film_id</th>\n",
       "      <th>title</th>\n",
       "      <th>film_duration</th>\n",
       "      <th>rating</th>\n",
       "      <th>category</th>\n",
       "      <th>total_rental_counts</th>\n",
       "      <th>rented_feb06</th>\n",
       "      <th>popularity</th>\n",
       "    </tr>\n",
       "  </thead>\n",
       "  <tbody>\n",
       "    <tr>\n",
       "      <th>count</th>\n",
       "      <td>958.000000</td>\n",
       "      <td>958</td>\n",
       "      <td>958.000000</td>\n",
       "      <td>958</td>\n",
       "      <td>958</td>\n",
       "      <td>958.000000</td>\n",
       "      <td>958.000000</td>\n",
       "      <td>958</td>\n",
       "    </tr>\n",
       "    <tr>\n",
       "      <th>unique</th>\n",
       "      <td>NaN</td>\n",
       "      <td>958</td>\n",
       "      <td>NaN</td>\n",
       "      <td>5</td>\n",
       "      <td>16</td>\n",
       "      <td>NaN</td>\n",
       "      <td>NaN</td>\n",
       "      <td>5</td>\n",
       "    </tr>\n",
       "    <tr>\n",
       "      <th>top</th>\n",
       "      <td>NaN</td>\n",
       "      <td>academy dinosaur</td>\n",
       "      <td>NaN</td>\n",
       "      <td>PG-13</td>\n",
       "      <td>Sports</td>\n",
       "      <td>NaN</td>\n",
       "      <td>NaN</td>\n",
       "      <td>very_popular</td>\n",
       "    </tr>\n",
       "    <tr>\n",
       "      <th>freq</th>\n",
       "      <td>NaN</td>\n",
       "      <td>1</td>\n",
       "      <td>NaN</td>\n",
       "      <td>213</td>\n",
       "      <td>73</td>\n",
       "      <td>NaN</td>\n",
       "      <td>NaN</td>\n",
       "      <td>295</td>\n",
       "    </tr>\n",
       "    <tr>\n",
       "      <th>mean</th>\n",
       "      <td>502.598121</td>\n",
       "      <td>NaN</td>\n",
       "      <td>115.490605</td>\n",
       "      <td>NaN</td>\n",
       "      <td>NaN</td>\n",
       "      <td>16.747390</td>\n",
       "      <td>0.175365</td>\n",
       "      <td>NaN</td>\n",
       "    </tr>\n",
       "    <tr>\n",
       "      <th>std</th>\n",
       "      <td>287.541738</td>\n",
       "      <td>NaN</td>\n",
       "      <td>40.471844</td>\n",
       "      <td>NaN</td>\n",
       "      <td>NaN</td>\n",
       "      <td>6.676185</td>\n",
       "      <td>0.380478</td>\n",
       "      <td>NaN</td>\n",
       "    </tr>\n",
       "    <tr>\n",
       "      <th>min</th>\n",
       "      <td>1.000000</td>\n",
       "      <td>NaN</td>\n",
       "      <td>46.000000</td>\n",
       "      <td>NaN</td>\n",
       "      <td>NaN</td>\n",
       "      <td>4.000000</td>\n",
       "      <td>0.000000</td>\n",
       "      <td>NaN</td>\n",
       "    </tr>\n",
       "    <tr>\n",
       "      <th>25%</th>\n",
       "      <td>256.250000</td>\n",
       "      <td>NaN</td>\n",
       "      <td>80.250000</td>\n",
       "      <td>NaN</td>\n",
       "      <td>NaN</td>\n",
       "      <td>11.000000</td>\n",
       "      <td>0.000000</td>\n",
       "      <td>NaN</td>\n",
       "    </tr>\n",
       "    <tr>\n",
       "      <th>50%</th>\n",
       "      <td>504.500000</td>\n",
       "      <td>NaN</td>\n",
       "      <td>114.000000</td>\n",
       "      <td>NaN</td>\n",
       "      <td>NaN</td>\n",
       "      <td>16.000000</td>\n",
       "      <td>0.000000</td>\n",
       "      <td>NaN</td>\n",
       "    </tr>\n",
       "    <tr>\n",
       "      <th>75%</th>\n",
       "      <td>751.750000</td>\n",
       "      <td>NaN</td>\n",
       "      <td>150.000000</td>\n",
       "      <td>NaN</td>\n",
       "      <td>NaN</td>\n",
       "      <td>22.000000</td>\n",
       "      <td>0.000000</td>\n",
       "      <td>NaN</td>\n",
       "    </tr>\n",
       "    <tr>\n",
       "      <th>max</th>\n",
       "      <td>1000.000000</td>\n",
       "      <td>NaN</td>\n",
       "      <td>185.000000</td>\n",
       "      <td>NaN</td>\n",
       "      <td>NaN</td>\n",
       "      <td>34.000000</td>\n",
       "      <td>1.000000</td>\n",
       "      <td>NaN</td>\n",
       "    </tr>\n",
       "  </tbody>\n",
       "</table>\n",
       "</div>"
      ],
      "text/plain": [
       "            film_id             title  film_duration rating category  \\\n",
       "count    958.000000               958     958.000000    958      958   \n",
       "unique          NaN               958            NaN      5       16   \n",
       "top             NaN  academy dinosaur            NaN  PG-13   Sports   \n",
       "freq            NaN                 1            NaN    213       73   \n",
       "mean     502.598121               NaN     115.490605    NaN      NaN   \n",
       "std      287.541738               NaN      40.471844    NaN      NaN   \n",
       "min        1.000000               NaN      46.000000    NaN      NaN   \n",
       "25%      256.250000               NaN      80.250000    NaN      NaN   \n",
       "50%      504.500000               NaN     114.000000    NaN      NaN   \n",
       "75%      751.750000               NaN     150.000000    NaN      NaN   \n",
       "max     1000.000000               NaN     185.000000    NaN      NaN   \n",
       "\n",
       "        total_rental_counts  rented_feb06    popularity  \n",
       "count            958.000000    958.000000           958  \n",
       "unique                  NaN           NaN             5  \n",
       "top                     NaN           NaN  very_popular  \n",
       "freq                    NaN           NaN           295  \n",
       "mean              16.747390      0.175365           NaN  \n",
       "std                6.676185      0.380478           NaN  \n",
       "min                4.000000      0.000000           NaN  \n",
       "25%               11.000000      0.000000           NaN  \n",
       "50%               16.000000      0.000000           NaN  \n",
       "75%               22.000000      0.000000           NaN  \n",
       "max               34.000000      1.000000           NaN  "
      ]
     },
     "execution_count": 253,
     "metadata": {},
     "output_type": "execute_result"
    }
   ],
   "source": [
    "film_list.describe(include='all') # to check which ratings, category and popularity have the most number of occurence."
   ]
  },
  {
   "attachments": {},
   "cell_type": "markdown",
   "id": "a4c324fa",
   "metadata": {},
   "source": [
    "### Numerical Variables"
   ]
  },
  {
   "cell_type": "code",
   "execution_count": 254,
   "id": "2d4bc8d5",
   "metadata": {
    "scrolled": true
   },
   "outputs": [
    {
     "data": {
      "text/html": [
       "<div>\n",
       "<style scoped>\n",
       "    .dataframe tbody tr th:only-of-type {\n",
       "        vertical-align: middle;\n",
       "    }\n",
       "\n",
       "    .dataframe tbody tr th {\n",
       "        vertical-align: top;\n",
       "    }\n",
       "\n",
       "    .dataframe thead th {\n",
       "        text-align: right;\n",
       "    }\n",
       "</style>\n",
       "<table border=\"1\" class=\"dataframe\">\n",
       "  <thead>\n",
       "    <tr style=\"text-align: right;\">\n",
       "      <th></th>\n",
       "      <th>film_duration</th>\n",
       "      <th>total_rental_counts</th>\n",
       "      <th>rented_feb06</th>\n",
       "    </tr>\n",
       "  </thead>\n",
       "  <tbody>\n",
       "    <tr>\n",
       "      <th>0</th>\n",
       "      <td>86</td>\n",
       "      <td>23</td>\n",
       "      <td>0</td>\n",
       "    </tr>\n",
       "    <tr>\n",
       "      <th>1</th>\n",
       "      <td>48</td>\n",
       "      <td>7</td>\n",
       "      <td>1</td>\n",
       "    </tr>\n",
       "    <tr>\n",
       "      <th>2</th>\n",
       "      <td>50</td>\n",
       "      <td>12</td>\n",
       "      <td>0</td>\n",
       "    </tr>\n",
       "    <tr>\n",
       "      <th>3</th>\n",
       "      <td>117</td>\n",
       "      <td>23</td>\n",
       "      <td>1</td>\n",
       "    </tr>\n",
       "    <tr>\n",
       "      <th>4</th>\n",
       "      <td>130</td>\n",
       "      <td>12</td>\n",
       "      <td>1</td>\n",
       "    </tr>\n",
       "  </tbody>\n",
       "</table>\n",
       "</div>"
      ],
      "text/plain": [
       "   film_duration  total_rental_counts  rented_feb06\n",
       "0             86                   23             0\n",
       "1             48                    7             1\n",
       "2             50                   12             0\n",
       "3            117                   23             1\n",
       "4            130                   12             1"
      ]
     },
     "execution_count": 254,
     "metadata": {},
     "output_type": "execute_result"
    }
   ],
   "source": [
    "numerical = film_list[['film_duration', 'total_rental_counts', 'rented_feb06']]\n",
    "numerical.head()"
   ]
  },
  {
   "cell_type": "code",
   "execution_count": 255,
   "id": "a103a3f3",
   "metadata": {},
   "outputs": [
    {
     "data": {
      "image/png": "[encoded data removed]",
      "text/plain": [
       "<Figure size 640x480 with 2 Axes>"
      ]
     },
     "metadata": {},
     "output_type": "display_data"
    }
   ],
   "source": [
    "corr_matrix=numerical.corr(method='pearson')\n",
    "sns.heatmap(corr_matrix, annot=True, cmap='coolwarm')\n",
    "plt.show()"
   ]
  },
  {
   "attachments": {},
   "cell_type": "markdown",
   "id": "8f789c7e",
   "metadata": {},
   "source": [
    "Correlation shows very little relationship between the variables. However, just looking at the positive or negative relationship, we can see that film_duration has a negative relationship on whether a film is rented."
   ]
  },
  {
   "cell_type": "code",
   "execution_count": 256,
   "id": "defce5d9",
   "metadata": {},
   "outputs": [
    {
     "name": "stderr",
     "output_type": "stream",
     "text": [
      "/Users/rachelleflores/opt/anaconda3/lib/python3.9/site-packages/seaborn/distributions.py:2619: FutureWarning: `distplot` is a deprecated function and will be removed in a future version. Please adapt your code to use either `displot` (a figure-level function with similar flexibility) or `histplot` (an axes-level function for histograms).\n",
      "  warnings.warn(msg, FutureWarning)\n"
     ]
    },
    {
     "data": {
      "text/plain": [
       "<AxesSubplot:xlabel='total_rental_counts', ylabel='Density'>"
      ]
     },
     "execution_count": 256,
     "metadata": {},
     "output_type": "execute_result"
    },
    {
     "data": {
      "image/png": "[encoded data removed]",
      "text/plain": [
       "<Figure size 640x480 with 1 Axes>"
      ]
     },
     "metadata": {},
     "output_type": "display_data"
    }
   ],
   "source": [
    "sns.distplot(numerical.total_rental_counts)"
   ]
  },
  {
   "cell_type": "code",
   "execution_count": 257,
   "id": "3574aa2c",
   "metadata": {},
   "outputs": [
    {
     "name": "stderr",
     "output_type": "stream",
     "text": [
      "/Users/rachelleflores/opt/anaconda3/lib/python3.9/site-packages/seaborn/distributions.py:2619: FutureWarning: `distplot` is a deprecated function and will be removed in a future version. Please adapt your code to use either `displot` (a figure-level function with similar flexibility) or `histplot` (an axes-level function for histograms).\n",
      "  warnings.warn(msg, FutureWarning)\n"
     ]
    },
    {
     "data": {
      "text/plain": [
       "<AxesSubplot:xlabel='film_duration', ylabel='Density'>"
      ]
     },
     "execution_count": 257,
     "metadata": {},
     "output_type": "execute_result"
    },
    {
     "data": {
      "image/png": "[encoded data removed]",
      "text/plain": [
       "<Figure size 640x480 with 1 Axes>"
      ]
     },
     "metadata": {},
     "output_type": "display_data"
    }
   ],
   "source": [
    "sns.distplot(numerical.film_duration)"
   ]
  },
  {
   "cell_type": "code",
   "execution_count": 258,
   "id": "4c9a6853",
   "metadata": {},
   "outputs": [
    {
     "name": "stderr",
     "output_type": "stream",
     "text": [
      "/Users/rachelleflores/opt/anaconda3/lib/python3.9/site-packages/seaborn/distributions.py:2619: FutureWarning: `distplot` is a deprecated function and will be removed in a future version. Please adapt your code to use either `displot` (a figure-level function with similar flexibility) or `histplot` (an axes-level function for histograms).\n",
      "  warnings.warn(msg, FutureWarning)\n"
     ]
    },
    {
     "data": {
      "text/plain": [
       "<AxesSubplot:xlabel='rented_feb06', ylabel='Density'>"
      ]
     },
     "execution_count": 258,
     "metadata": {},
     "output_type": "execute_result"
    },
    {
     "data": {
      "image/png": "[encoded data removed]",
      "text/plain": [
       "<Figure size 640x480 with 1 Axes>"
      ]
     },
     "metadata": {},
     "output_type": "display_data"
    }
   ],
   "source": [
    "sns.distplot(numerical.rented_feb06)"
   ]
  },
  {
   "cell_type": "code",
   "execution_count": 259,
   "id": "a4aea685",
   "metadata": {},
   "outputs": [
    {
     "data": {
      "text/html": [
       "<div>\n",
       "<style scoped>\n",
       "    .dataframe tbody tr th:only-of-type {\n",
       "        vertical-align: middle;\n",
       "    }\n",
       "\n",
       "    .dataframe tbody tr th {\n",
       "        vertical-align: top;\n",
       "    }\n",
       "\n",
       "    .dataframe thead th {\n",
       "        text-align: right;\n",
       "    }\n",
       "</style>\n",
       "<table border=\"1\" class=\"dataframe\">\n",
       "  <thead>\n",
       "    <tr style=\"text-align: right;\">\n",
       "      <th></th>\n",
       "      <th>film_duration</th>\n",
       "      <th>total_rental_counts</th>\n",
       "    </tr>\n",
       "  </thead>\n",
       "  <tbody>\n",
       "    <tr>\n",
       "      <th>0</th>\n",
       "      <td>86</td>\n",
       "      <td>23</td>\n",
       "    </tr>\n",
       "    <tr>\n",
       "      <th>1</th>\n",
       "      <td>48</td>\n",
       "      <td>7</td>\n",
       "    </tr>\n",
       "    <tr>\n",
       "      <th>2</th>\n",
       "      <td>50</td>\n",
       "      <td>12</td>\n",
       "    </tr>\n",
       "    <tr>\n",
       "      <th>3</th>\n",
       "      <td>117</td>\n",
       "      <td>23</td>\n",
       "    </tr>\n",
       "    <tr>\n",
       "      <th>4</th>\n",
       "      <td>130</td>\n",
       "      <td>12</td>\n",
       "    </tr>\n",
       "  </tbody>\n",
       "</table>\n",
       "</div>"
      ],
      "text/plain": [
       "   film_duration  total_rental_counts\n",
       "0             86                   23\n",
       "1             48                    7\n",
       "2             50                   12\n",
       "3            117                   23\n",
       "4            130                   12"
      ]
     },
     "execution_count": 259,
     "metadata": {},
     "output_type": "execute_result"
    }
   ],
   "source": [
    "X_num= numerical.drop(columns='rented_feb06')\n",
    "X_num.head()"
   ]
  },
  {
   "cell_type": "code",
   "execution_count": 260,
   "id": "39df3a34",
   "metadata": {},
   "outputs": [
    {
     "data": {
      "text/html": [
       "<div>\n",
       "<style scoped>\n",
       "    .dataframe tbody tr th:only-of-type {\n",
       "        vertical-align: middle;\n",
       "    }\n",
       "\n",
       "    .dataframe tbody tr th {\n",
       "        vertical-align: top;\n",
       "    }\n",
       "\n",
       "    .dataframe thead th {\n",
       "        text-align: right;\n",
       "    }\n",
       "</style>\n",
       "<table border=\"1\" class=\"dataframe\">\n",
       "  <thead>\n",
       "    <tr style=\"text-align: right;\">\n",
       "      <th></th>\n",
       "      <th>film_duration</th>\n",
       "      <th>total_rental_counts</th>\n",
       "    </tr>\n",
       "  </thead>\n",
       "  <tbody>\n",
       "    <tr>\n",
       "      <th>0</th>\n",
       "      <td>-0.729050</td>\n",
       "      <td>0.937044</td>\n",
       "    </tr>\n",
       "    <tr>\n",
       "      <th>1</th>\n",
       "      <td>-1.668465</td>\n",
       "      <td>-1.460787</td>\n",
       "    </tr>\n",
       "    <tr>\n",
       "      <th>2</th>\n",
       "      <td>-1.619022</td>\n",
       "      <td>-0.711465</td>\n",
       "    </tr>\n",
       "    <tr>\n",
       "      <th>3</th>\n",
       "      <td>0.037314</td>\n",
       "      <td>0.937044</td>\n",
       "    </tr>\n",
       "    <tr>\n",
       "      <th>4</th>\n",
       "      <td>0.358693</td>\n",
       "      <td>-0.711465</td>\n",
       "    </tr>\n",
       "  </tbody>\n",
       "</table>\n",
       "</div>"
      ],
      "text/plain": [
       "   film_duration  total_rental_counts\n",
       "0      -0.729050             0.937044\n",
       "1      -1.668465            -1.460787\n",
       "2      -1.619022            -0.711465\n",
       "3       0.037314             0.937044\n",
       "4       0.358693            -0.711465"
      ]
     },
     "execution_count": 260,
     "metadata": {},
     "output_type": "execute_result"
    }
   ],
   "source": [
    "transformer = StandardScaler().fit(X_num)\n",
    "x_stand = transformer.transform(X_num)\n",
    "x_num = pd.DataFrame(x_stand)\n",
    "x_num.columns = X_num.columns\n",
    "x_num.head()"
   ]
  },
  {
   "attachments": {},
   "cell_type": "markdown",
   "id": "eb526510",
   "metadata": {},
   "source": [
    "### Categorical Variables"
   ]
  },
  {
   "cell_type": "code",
   "execution_count": 263,
   "id": "ccc7f198",
   "metadata": {},
   "outputs": [
    {
     "data": {
      "text/html": [
       "<div>\n",
       "<style scoped>\n",
       "    .dataframe tbody tr th:only-of-type {\n",
       "        vertical-align: middle;\n",
       "    }\n",
       "\n",
       "    .dataframe tbody tr th {\n",
       "        vertical-align: top;\n",
       "    }\n",
       "\n",
       "    .dataframe thead th {\n",
       "        text-align: right;\n",
       "    }\n",
       "</style>\n",
       "<table border=\"1\" class=\"dataframe\">\n",
       "  <thead>\n",
       "    <tr style=\"text-align: right;\">\n",
       "      <th></th>\n",
       "      <th>rating</th>\n",
       "      <th>category</th>\n",
       "      <th>rented_feb06</th>\n",
       "      <th>popularity</th>\n",
       "    </tr>\n",
       "  </thead>\n",
       "  <tbody>\n",
       "    <tr>\n",
       "      <th>0</th>\n",
       "      <td>PG</td>\n",
       "      <td>Documentary</td>\n",
       "      <td>0</td>\n",
       "      <td>very_popular</td>\n",
       "    </tr>\n",
       "    <tr>\n",
       "      <th>1</th>\n",
       "      <td>G</td>\n",
       "      <td>Horror</td>\n",
       "      <td>1</td>\n",
       "      <td>mildly_unpopular</td>\n",
       "    </tr>\n",
       "    <tr>\n",
       "      <th>2</th>\n",
       "      <td>NC-17</td>\n",
       "      <td>Documentary</td>\n",
       "      <td>0</td>\n",
       "      <td>mildly_popular</td>\n",
       "    </tr>\n",
       "    <tr>\n",
       "      <th>3</th>\n",
       "      <td>G</td>\n",
       "      <td>Horror</td>\n",
       "      <td>1</td>\n",
       "      <td>very_popular</td>\n",
       "    </tr>\n",
       "    <tr>\n",
       "      <th>4</th>\n",
       "      <td>G</td>\n",
       "      <td>Family</td>\n",
       "      <td>1</td>\n",
       "      <td>mildly_popular</td>\n",
       "    </tr>\n",
       "  </tbody>\n",
       "</table>\n",
       "</div>"
      ],
      "text/plain": [
       "  rating     category  rented_feb06        popularity\n",
       "0     PG  Documentary             0      very_popular\n",
       "1      G       Horror             1  mildly_unpopular\n",
       "2  NC-17  Documentary             0    mildly_popular\n",
       "3      G       Horror             1      very_popular\n",
       "4      G       Family             1    mildly_popular"
      ]
     },
     "execution_count": 263,
     "metadata": {},
     "output_type": "execute_result"
    }
   ],
   "source": [
    "categorical = film_list[['rating','category','rented_feb06','popularity']]\n",
    "categorical.head()"
   ]
  },
  {
   "cell_type": "code",
   "execution_count": 264,
   "id": "18dc619c",
   "metadata": {},
   "outputs": [
    {
     "data": {
      "image/png": "[encoded data removed]",
      "text/plain": [
       "<Figure size 640x480 with 1 Axes>"
      ]
     },
     "metadata": {},
     "output_type": "display_data"
    },
    {
     "data": {
      "image/png": "[encoded data removed]",
      "text/plain": [
       "<Figure size 640x480 with 1 Axes>"
      ]
     },
     "metadata": {},
     "output_type": "display_data"
    },
    {
     "data": {
      "image/png": "[encoded data removed]",
      "text/plain": [
       "<Figure size 640x480 with 1 Axes>"
      ]
     },
     "metadata": {},
     "output_type": "display_data"
    },
    {
     "data": {
      "image/png": "[encoded data removed]",
      "text/plain": [
       "<Figure size 640x480 with 1 Axes>"
      ]
     },
     "metadata": {},
     "output_type": "display_data"
    }
   ],
   "source": [
    "for col in categorical.columns:\n",
    "    sns.histplot(categorical[col], stat='percent')\n",
    "    plt.show()"
   ]
  },
  {
   "cell_type": "code",
   "execution_count": 265,
   "id": "64c23c0a",
   "metadata": {},
   "outputs": [
    {
     "name": "stderr",
     "output_type": "stream",
     "text": [
      "/var/folders/8z/6dxd_gws0p1gkky66vd1t2xh0000gn/T/ipykernel_54430/1016461716.py:2: SettingWithCopyWarning: \n",
      "A value is trying to be set on a copy of a slice from a DataFrame\n",
      "\n",
      "See the caveats in the documentation: https://pandas.pydata.org/pandas-docs/stable/user_guide/indexing.html#returning-a-view-versus-a-copy\n",
      "  categorical.drop('rented_feb06', axis = 1, inplace=True)\n"
     ]
    }
   ],
   "source": [
    "y = categorical['rented_feb06']\n",
    "categorical.drop('rented_feb06', axis = 1, inplace=True)"
   ]
  },
  {
   "cell_type": "code",
   "execution_count": 266,
   "id": "c6b6e381",
   "metadata": {},
   "outputs": [
    {
     "data": {
      "text/plain": [
       "0    0\n",
       "1    1\n",
       "2    0\n",
       "3    1\n",
       "4    1\n",
       "Name: rented_feb06, dtype: int64"
      ]
     },
     "execution_count": 266,
     "metadata": {},
     "output_type": "execute_result"
    }
   ],
   "source": [
    "y.head()  # Target appart"
   ]
  },
  {
   "cell_type": "code",
   "execution_count": 267,
   "id": "2a5f84b7",
   "metadata": {},
   "outputs": [
    {
     "data": {
      "text/html": [
       "<div>\n",
       "<style scoped>\n",
       "    .dataframe tbody tr th:only-of-type {\n",
       "        vertical-align: middle;\n",
       "    }\n",
       "\n",
       "    .dataframe tbody tr th {\n",
       "        vertical-align: top;\n",
       "    }\n",
       "\n",
       "    .dataframe thead th {\n",
       "        text-align: right;\n",
       "    }\n",
       "</style>\n",
       "<table border=\"1\" class=\"dataframe\">\n",
       "  <thead>\n",
       "    <tr style=\"text-align: right;\">\n",
       "      <th></th>\n",
       "      <th>rating_G</th>\n",
       "      <th>rating_NC-17</th>\n",
       "      <th>rating_PG</th>\n",
       "      <th>rating_PG-13</th>\n",
       "      <th>rating_R</th>\n",
       "      <th>category_Action</th>\n",
       "      <th>category_Animation</th>\n",
       "      <th>category_Children</th>\n",
       "      <th>category_Classics</th>\n",
       "      <th>category_Comedy</th>\n",
       "      <th>...</th>\n",
       "      <th>category_Music</th>\n",
       "      <th>category_New</th>\n",
       "      <th>category_Sci-Fi</th>\n",
       "      <th>category_Sports</th>\n",
       "      <th>category_Travel</th>\n",
       "      <th>popularity_mildly_popular</th>\n",
       "      <th>popularity_mildly_unpopular</th>\n",
       "      <th>popularity_popular</th>\n",
       "      <th>popularity_unpopular</th>\n",
       "      <th>popularity_very_popular</th>\n",
       "    </tr>\n",
       "  </thead>\n",
       "  <tbody>\n",
       "    <tr>\n",
       "      <th>0</th>\n",
       "      <td>0</td>\n",
       "      <td>0</td>\n",
       "      <td>1</td>\n",
       "      <td>0</td>\n",
       "      <td>0</td>\n",
       "      <td>0</td>\n",
       "      <td>0</td>\n",
       "      <td>0</td>\n",
       "      <td>0</td>\n",
       "      <td>0</td>\n",
       "      <td>...</td>\n",
       "      <td>0</td>\n",
       "      <td>0</td>\n",
       "      <td>0</td>\n",
       "      <td>0</td>\n",
       "      <td>0</td>\n",
       "      <td>0</td>\n",
       "      <td>0</td>\n",
       "      <td>0</td>\n",
       "      <td>0</td>\n",
       "      <td>1</td>\n",
       "    </tr>\n",
       "    <tr>\n",
       "      <th>1</th>\n",
       "      <td>1</td>\n",
       "      <td>0</td>\n",
       "      <td>0</td>\n",
       "      <td>0</td>\n",
       "      <td>0</td>\n",
       "      <td>0</td>\n",
       "      <td>0</td>\n",
       "      <td>0</td>\n",
       "      <td>0</td>\n",
       "      <td>0</td>\n",
       "      <td>...</td>\n",
       "      <td>0</td>\n",
       "      <td>0</td>\n",
       "      <td>0</td>\n",
       "      <td>0</td>\n",
       "      <td>0</td>\n",
       "      <td>0</td>\n",
       "      <td>1</td>\n",
       "      <td>0</td>\n",
       "      <td>0</td>\n",
       "      <td>0</td>\n",
       "    </tr>\n",
       "    <tr>\n",
       "      <th>2</th>\n",
       "      <td>0</td>\n",
       "      <td>1</td>\n",
       "      <td>0</td>\n",
       "      <td>0</td>\n",
       "      <td>0</td>\n",
       "      <td>0</td>\n",
       "      <td>0</td>\n",
       "      <td>0</td>\n",
       "      <td>0</td>\n",
       "      <td>0</td>\n",
       "      <td>...</td>\n",
       "      <td>0</td>\n",
       "      <td>0</td>\n",
       "      <td>0</td>\n",
       "      <td>0</td>\n",
       "      <td>0</td>\n",
       "      <td>1</td>\n",
       "      <td>0</td>\n",
       "      <td>0</td>\n",
       "      <td>0</td>\n",
       "      <td>0</td>\n",
       "    </tr>\n",
       "    <tr>\n",
       "      <th>3</th>\n",
       "      <td>1</td>\n",
       "      <td>0</td>\n",
       "      <td>0</td>\n",
       "      <td>0</td>\n",
       "      <td>0</td>\n",
       "      <td>0</td>\n",
       "      <td>0</td>\n",
       "      <td>0</td>\n",
       "      <td>0</td>\n",
       "      <td>0</td>\n",
       "      <td>...</td>\n",
       "      <td>0</td>\n",
       "      <td>0</td>\n",
       "      <td>0</td>\n",
       "      <td>0</td>\n",
       "      <td>0</td>\n",
       "      <td>0</td>\n",
       "      <td>0</td>\n",
       "      <td>0</td>\n",
       "      <td>0</td>\n",
       "      <td>1</td>\n",
       "    </tr>\n",
       "    <tr>\n",
       "      <th>4</th>\n",
       "      <td>1</td>\n",
       "      <td>0</td>\n",
       "      <td>0</td>\n",
       "      <td>0</td>\n",
       "      <td>0</td>\n",
       "      <td>0</td>\n",
       "      <td>0</td>\n",
       "      <td>0</td>\n",
       "      <td>0</td>\n",
       "      <td>0</td>\n",
       "      <td>...</td>\n",
       "      <td>0</td>\n",
       "      <td>0</td>\n",
       "      <td>0</td>\n",
       "      <td>0</td>\n",
       "      <td>0</td>\n",
       "      <td>1</td>\n",
       "      <td>0</td>\n",
       "      <td>0</td>\n",
       "      <td>0</td>\n",
       "      <td>0</td>\n",
       "    </tr>\n",
       "  </tbody>\n",
       "</table>\n",
       "<p>5 rows × 26 columns</p>\n",
       "</div>"
      ],
      "text/plain": [
       "   rating_G  rating_NC-17  rating_PG  rating_PG-13  rating_R  category_Action  \\\n",
       "0         0             0          1             0         0                0   \n",
       "1         1             0          0             0         0                0   \n",
       "2         0             1          0             0         0                0   \n",
       "3         1             0          0             0         0                0   \n",
       "4         1             0          0             0         0                0   \n",
       "\n",
       "   category_Animation  category_Children  category_Classics  category_Comedy  \\\n",
       "0                   0                  0                  0                0   \n",
       "1                   0                  0                  0                0   \n",
       "2                   0                  0                  0                0   \n",
       "3                   0                  0                  0                0   \n",
       "4                   0                  0                  0                0   \n",
       "\n",
       "   ...  category_Music  category_New  category_Sci-Fi  category_Sports  \\\n",
       "0  ...               0             0                0                0   \n",
       "1  ...               0             0                0                0   \n",
       "2  ...               0             0                0                0   \n",
       "3  ...               0             0                0                0   \n",
       "4  ...               0             0                0                0   \n",
       "\n",
       "   category_Travel  popularity_mildly_popular  popularity_mildly_unpopular  \\\n",
       "0                0                          0                            0   \n",
       "1                0                          0                            1   \n",
       "2                0                          1                            0   \n",
       "3                0                          0                            0   \n",
       "4                0                          1                            0   \n",
       "\n",
       "   popularity_popular  popularity_unpopular  popularity_very_popular  \n",
       "0                   0                     0                        1  \n",
       "1                   0                     0                        0  \n",
       "2                   0                     0                        0  \n",
       "3                   0                     0                        1  \n",
       "4                   0                     0                        0  \n",
       "\n",
       "[5 rows x 26 columns]"
      ]
     },
     "execution_count": 267,
     "metadata": {},
     "output_type": "execute_result"
    }
   ],
   "source": [
    "cat = pd.get_dummies(categorical, columns=['rating', 'category','popularity'])\n",
    "cat.head()"
   ]
  },
  {
   "cell_type": "code",
   "execution_count": 268,
   "id": "282e117a",
   "metadata": {},
   "outputs": [
    {
     "data": {
      "text/html": [
       "<div>\n",
       "<style scoped>\n",
       "    .dataframe tbody tr th:only-of-type {\n",
       "        vertical-align: middle;\n",
       "    }\n",
       "\n",
       "    .dataframe tbody tr th {\n",
       "        vertical-align: top;\n",
       "    }\n",
       "\n",
       "    .dataframe thead th {\n",
       "        text-align: right;\n",
       "    }\n",
       "</style>\n",
       "<table border=\"1\" class=\"dataframe\">\n",
       "  <thead>\n",
       "    <tr style=\"text-align: right;\">\n",
       "      <th></th>\n",
       "      <th>film_duration</th>\n",
       "      <th>total_rental_counts</th>\n",
       "      <th>rating_G</th>\n",
       "      <th>rating_NC-17</th>\n",
       "      <th>rating_PG</th>\n",
       "      <th>rating_PG-13</th>\n",
       "      <th>rating_R</th>\n",
       "      <th>category_Action</th>\n",
       "      <th>category_Animation</th>\n",
       "      <th>category_Children</th>\n",
       "      <th>...</th>\n",
       "      <th>category_Music</th>\n",
       "      <th>category_New</th>\n",
       "      <th>category_Sci-Fi</th>\n",
       "      <th>category_Sports</th>\n",
       "      <th>category_Travel</th>\n",
       "      <th>popularity_mildly_popular</th>\n",
       "      <th>popularity_mildly_unpopular</th>\n",
       "      <th>popularity_popular</th>\n",
       "      <th>popularity_unpopular</th>\n",
       "      <th>popularity_very_popular</th>\n",
       "    </tr>\n",
       "  </thead>\n",
       "  <tbody>\n",
       "    <tr>\n",
       "      <th>0</th>\n",
       "      <td>-0.729050</td>\n",
       "      <td>0.937044</td>\n",
       "      <td>0</td>\n",
       "      <td>0</td>\n",
       "      <td>1</td>\n",
       "      <td>0</td>\n",
       "      <td>0</td>\n",
       "      <td>0</td>\n",
       "      <td>0</td>\n",
       "      <td>0</td>\n",
       "      <td>...</td>\n",
       "      <td>0</td>\n",
       "      <td>0</td>\n",
       "      <td>0</td>\n",
       "      <td>0</td>\n",
       "      <td>0</td>\n",
       "      <td>0</td>\n",
       "      <td>0</td>\n",
       "      <td>0</td>\n",
       "      <td>0</td>\n",
       "      <td>1</td>\n",
       "    </tr>\n",
       "    <tr>\n",
       "      <th>1</th>\n",
       "      <td>-1.668465</td>\n",
       "      <td>-1.460787</td>\n",
       "      <td>1</td>\n",
       "      <td>0</td>\n",
       "      <td>0</td>\n",
       "      <td>0</td>\n",
       "      <td>0</td>\n",
       "      <td>0</td>\n",
       "      <td>0</td>\n",
       "      <td>0</td>\n",
       "      <td>...</td>\n",
       "      <td>0</td>\n",
       "      <td>0</td>\n",
       "      <td>0</td>\n",
       "      <td>0</td>\n",
       "      <td>0</td>\n",
       "      <td>0</td>\n",
       "      <td>1</td>\n",
       "      <td>0</td>\n",
       "      <td>0</td>\n",
       "      <td>0</td>\n",
       "    </tr>\n",
       "    <tr>\n",
       "      <th>2</th>\n",
       "      <td>-1.619022</td>\n",
       "      <td>-0.711465</td>\n",
       "      <td>0</td>\n",
       "      <td>1</td>\n",
       "      <td>0</td>\n",
       "      <td>0</td>\n",
       "      <td>0</td>\n",
       "      <td>0</td>\n",
       "      <td>0</td>\n",
       "      <td>0</td>\n",
       "      <td>...</td>\n",
       "      <td>0</td>\n",
       "      <td>0</td>\n",
       "      <td>0</td>\n",
       "      <td>0</td>\n",
       "      <td>0</td>\n",
       "      <td>1</td>\n",
       "      <td>0</td>\n",
       "      <td>0</td>\n",
       "      <td>0</td>\n",
       "      <td>0</td>\n",
       "    </tr>\n",
       "    <tr>\n",
       "      <th>3</th>\n",
       "      <td>0.037314</td>\n",
       "      <td>0.937044</td>\n",
       "      <td>1</td>\n",
       "      <td>0</td>\n",
       "      <td>0</td>\n",
       "      <td>0</td>\n",
       "      <td>0</td>\n",
       "      <td>0</td>\n",
       "      <td>0</td>\n",
       "      <td>0</td>\n",
       "      <td>...</td>\n",
       "      <td>0</td>\n",
       "      <td>0</td>\n",
       "      <td>0</td>\n",
       "      <td>0</td>\n",
       "      <td>0</td>\n",
       "      <td>0</td>\n",
       "      <td>0</td>\n",
       "      <td>0</td>\n",
       "      <td>0</td>\n",
       "      <td>1</td>\n",
       "    </tr>\n",
       "    <tr>\n",
       "      <th>4</th>\n",
       "      <td>0.358693</td>\n",
       "      <td>-0.711465</td>\n",
       "      <td>1</td>\n",
       "      <td>0</td>\n",
       "      <td>0</td>\n",
       "      <td>0</td>\n",
       "      <td>0</td>\n",
       "      <td>0</td>\n",
       "      <td>0</td>\n",
       "      <td>0</td>\n",
       "      <td>...</td>\n",
       "      <td>0</td>\n",
       "      <td>0</td>\n",
       "      <td>0</td>\n",
       "      <td>0</td>\n",
       "      <td>0</td>\n",
       "      <td>1</td>\n",
       "      <td>0</td>\n",
       "      <td>0</td>\n",
       "      <td>0</td>\n",
       "      <td>0</td>\n",
       "    </tr>\n",
       "  </tbody>\n",
       "</table>\n",
       "<p>5 rows × 28 columns</p>\n",
       "</div>"
      ],
      "text/plain": [
       "   film_duration  total_rental_counts  rating_G  rating_NC-17  rating_PG  \\\n",
       "0      -0.729050             0.937044         0             0          1   \n",
       "1      -1.668465            -1.460787         1             0          0   \n",
       "2      -1.619022            -0.711465         0             1          0   \n",
       "3       0.037314             0.937044         1             0          0   \n",
       "4       0.358693            -0.711465         1             0          0   \n",
       "\n",
       "   rating_PG-13  rating_R  category_Action  category_Animation  \\\n",
       "0             0         0                0                   0   \n",
       "1             0         0                0                   0   \n",
       "2             0         0                0                   0   \n",
       "3             0         0                0                   0   \n",
       "4             0         0                0                   0   \n",
       "\n",
       "   category_Children  ...  category_Music  category_New  category_Sci-Fi  \\\n",
       "0                  0  ...               0             0                0   \n",
       "1                  0  ...               0             0                0   \n",
       "2                  0  ...               0             0                0   \n",
       "3                  0  ...               0             0                0   \n",
       "4                  0  ...               0             0                0   \n",
       "\n",
       "   category_Sports  category_Travel  popularity_mildly_popular  \\\n",
       "0                0                0                          0   \n",
       "1                0                0                          0   \n",
       "2                0                0                          1   \n",
       "3                0                0                          0   \n",
       "4                0                0                          1   \n",
       "\n",
       "   popularity_mildly_unpopular  popularity_popular  popularity_unpopular  \\\n",
       "0                            0                   0                     0   \n",
       "1                            1                   0                     0   \n",
       "2                            0                   0                     0   \n",
       "3                            0                   0                     0   \n",
       "4                            0                   0                     0   \n",
       "\n",
       "   popularity_very_popular  \n",
       "0                        1  \n",
       "1                        0  \n",
       "2                        0  \n",
       "3                        1  \n",
       "4                        0  \n",
       "\n",
       "[5 rows x 28 columns]"
      ]
     },
     "execution_count": 268,
     "metadata": {},
     "output_type": "execute_result"
    }
   ],
   "source": [
    "X = pd.concat([x_num, cat], axis=1) # Numerical and dummies from categoricals\n",
    "X.head()"
   ]
  },
  {
   "cell_type": "code",
   "execution_count": 269,
   "id": "c7f9383f",
   "metadata": {},
   "outputs": [],
   "source": [
    "# We separate training and testing datasets and correspondant targets\n",
    "X_train, X_test, y_train, y_test = train_test_split(X, y, test_size=0.3, random_state=1)"
   ]
  },
  {
   "cell_type": "code",
   "execution_count": 270,
   "id": "ab6dbbf9",
   "metadata": {},
   "outputs": [
    {
     "data": {
      "text/plain": [
       "(670, 670)"
      ]
     },
     "execution_count": 270,
     "metadata": {},
     "output_type": "execute_result"
    }
   ],
   "source": [
    "len(X_train), len(y_train)"
   ]
  },
  {
   "cell_type": "code",
   "execution_count": 271,
   "id": "da331659",
   "metadata": {},
   "outputs": [],
   "source": [
    "# We train the training dataset using Logistic Regression (multiclass classification)\n",
    "classification = LogisticRegression(random_state=1, multi_class='ovr').fit(X_train, y_train)"
   ]
  },
  {
   "cell_type": "code",
   "execution_count": 272,
   "id": "95a65508",
   "metadata": {},
   "outputs": [],
   "source": [
    "# We predict on the testing dataset\n",
    "predictions = classification.predict(X_test)"
   ]
  },
  {
   "cell_type": "code",
   "execution_count": 273,
   "id": "f31903dc",
   "metadata": {},
   "outputs": [
    {
     "data": {
      "text/plain": [
       "0    288\n",
       "dtype: int64"
      ]
     },
     "execution_count": 273,
     "metadata": {},
     "output_type": "execute_result"
    }
   ],
   "source": [
    "pred = pd.Series(predictions)\n",
    "pred.value_counts()"
   ]
  },
  {
   "cell_type": "code",
   "execution_count": 274,
   "id": "cca3a406",
   "metadata": {},
   "outputs": [
    {
     "data": {
      "text/plain": [
       "0    234\n",
       "1     54\n",
       "Name: rented_feb06, dtype: int64"
      ]
     },
     "execution_count": 274,
     "metadata": {},
     "output_type": "execute_result"
    }
   ],
   "source": [
    "y_test.value_counts()"
   ]
  },
  {
   "cell_type": "code",
   "execution_count": 275,
   "id": "1bdb90cb",
   "metadata": {},
   "outputs": [
    {
     "data": {
      "text/plain": [
       "array([[234,   0],\n",
       "       [ 54,   0]])"
      ]
     },
     "execution_count": 275,
     "metadata": {},
     "output_type": "execute_result"
    }
   ],
   "source": [
    "cm = confusion_matrix(y_test, pred)\n",
    "cm"
   ]
  },
  {
   "cell_type": "code",
   "execution_count": 277,
   "id": "b251ed0f",
   "metadata": {},
   "outputs": [
    {
     "name": "stdout",
     "output_type": "stream",
     "text": [
      "The accuracy of the model on test set is: 0.81 \n"
     ]
    },
    {
     "name": "stderr",
     "output_type": "stream",
     "text": [
      "/Users/rachelleflores/opt/anaconda3/lib/python3.9/site-packages/sklearn/utils/deprecation.py:87: FutureWarning: Function plot_confusion_matrix is deprecated; Function `plot_confusion_matrix` is deprecated in 1.0 and will be removed in 1.2. Use one of the class methods: ConfusionMatrixDisplay.from_predictions or ConfusionMatrixDisplay.from_estimator.\n",
      "  warnings.warn(msg, category=FutureWarning)\n"
     ]
    },
    {
     "data": {
      "image/png": "[encoded data removed]",
      "text/plain": [
       "<Figure size 640x480 with 2 Axes>"
      ]
     },
     "metadata": {},
     "output_type": "display_data"
    },
    {
     "name": "stdout",
     "output_type": "stream",
     "text": [
      "The Kappa of your model is: 0.00\n"
     ]
    }
   ],
   "source": [
    "print(\"The accuracy of the model on test set is: %4.2f \" % accuracy_score(y_test, predictions))\n",
    "plot_confusion_matrix(classification, X_test, y_test)  # doctest: +SKIP\n",
    "plt.show()  # doctest: +SKIP\n",
    "print(\"The Kappa of your model is: %4.2f\" % (cohen_kappa_score(y_test, predictions)))"
   ]
  },
  {
   "attachments": {},
   "cell_type": "markdown",
   "id": "e88bc147",
   "metadata": {},
   "source": [
    "We can see that the model is very good at predicting the 0 values(not rented in Feb 2006) but very bad at predicting the 1 values. The kappa score of 0 also indicates that the model model is no better than random guessing. Therefore, it definitely needs to be reworked and perhaps add other features which could better explain the target."
   ]
  }
 ],
 "metadata": {
  "kernelspec": {
   "display_name": "Python 3 (ipykernel)",
   "language": "python",
   "name": "python3"
  },
  "language_info": {
   "codemirror_mode": {
    "name": "ipython",
    "version": 3
   },
   "file_extension": ".py",
   "mimetype": "text/x-python",
   "name": "python",
   "nbconvert_exporter": "python",
   "pygments_lexer": "ipython3",
   "version": "3.9.13"
  }
 },
 "nbformat": 4,
 "nbformat_minor": 5
}
